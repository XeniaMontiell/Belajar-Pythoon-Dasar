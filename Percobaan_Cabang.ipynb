{
  "nbformat": 4,
  "nbformat_minor": 0,
  "metadata": {
    "colab": {
      "provenance": [],
      "authorship_tag": "ABX9TyPGSsBIG+olVQoL7AqPw5JH",
      "include_colab_link": true
    },
    "kernelspec": {
      "name": "python3",
      "display_name": "Python 3"
    },
    "language_info": {
      "name": "python"
    }
  },
  "cells": [
    {
      "cell_type": "markdown",
      "metadata": {
        "id": "view-in-github",
        "colab_type": "text"
      },
      "source": [
        "<a href=\"https://colab.research.google.com/github/XeniaMontiell/Belajar-Pythoon-Dasar/blob/main/Percobaan_Cabang.ipynb\" target=\"_parent\"><img src=\"https://colab.research.google.com/assets/colab-badge.svg\" alt=\"Open In Colab\"/></a>"
      ]
    },
    {
      "cell_type": "code",
      "source": [
        "Roti_Coklat = 5000\n",
        "Roti_Keju = 5000\n",
        "Roti_Pisang_Keju = 10000\n",
        "\n",
        "print(\"===============\")\n",
        "print(\"    Toko Roti    \")\n",
        "print(\"===============\")\n",
        "\n",
        "beli = Roti_Coklat * 2 + Roti_Keju * 3 + Roti_Pisang_Keju * 4\n",
        "\n",
        "if beli >= 50000:\n",
        "   diskon = 0.1 * beli\n",
        "else:\n",
        "   diskon = 0.0\n",
        "\n",
        "harga = beli - diskon\n",
        "print(\"Total Yang Harus Dibayarkan = Rp\", harga)"
      ],
      "metadata": {
        "colab": {
          "base_uri": "https://localhost:8080/"
        },
        "id": "l7wFaaAFiIjW",
        "outputId": "c78fbd67-8b2f-4be4-ccdd-444f8dc13c27"
      },
      "execution_count": null,
      "outputs": [
        {
          "output_type": "stream",
          "name": "stdout",
          "text": [
            "===============\n",
            "    Toko Roti    \n",
            "===============\n",
            "Total Yang Harus Dibayarkan = Rp 58500.0\n"
          ]
        }
      ]
    },
    {
      "cell_type": "code",
      "execution_count": null,
      "metadata": {
        "colab": {
          "base_uri": "https://localhost:8080/"
        },
        "id": "eygaObwogNUS",
        "outputId": "f8327397-45b6-4d53-96e9-ac0f61fdf90a"
      },
      "outputs": [
        {
          "output_type": "stream",
          "name": "stdout",
          "text": [
            "===============\n",
            "   Toko Roti    \n",
            "===============\n",
            "Masukkan jumlah Roti Coklat: 3\n",
            "Masukkan jumlah Roti Keju: 4\n",
            "Masukkan jumlah Roti Pisang Coklat: 5\n",
            "Total Yang Harus Dibayarkan= Rp  76500.0\n"
          ]
        }
      ],
      "source": [
        "Roti_Coklat = 5000\n",
        "Roti_Keju = 5000\n",
        "Roti_Pisang_Coklat = 10000\n",
        "\n",
        "print(\"===============\")\n",
        "print(\"   Toko Roti    \")\n",
        "print(\"===============\")\n",
        "\n",
        "coklat = int(input(\"Masukkan jumlah Roti Coklat: \"))\n",
        "keju = int(input(\"Masukkan jumlah Roti Keju: \"))\n",
        "pisang_keju = int(input(\"Masukkan jumlah Roti Pisang Coklat: \"))\n",
        "\n",
        "beli = (Roti_Coklat * coklat) + (Roti_Keju * keju) + (Roti_Pisang_Keju * pisang_keju)\n",
        "\n",
        "if beli > 50000:\n",
        "    diskon = beli * 0.1\n",
        "else :\n",
        "    diskon = 0.0\n",
        "bayar= beli-diskon\n",
        "print (\"Total Yang Harus Dibayarkan= Rp \", bayar )"
      ]
    },
    {
      "cell_type": "code",
      "source": [
        "# Menentukan Bilangan Positif, Negatif, Atau Nol\n",
        "\n",
        "bilangan = float(input(\"Masukkan Bilangan: \"))\n",
        "if bilangan > 0:\n",
        "   print(\"Bilangan Positif\")\n",
        "elif bilangan == 0:\n",
        "   print(\"Nol\")\n",
        "else:\n",
        "   print(\"Bilangan Negatif\")"
      ],
      "metadata": {
        "id": "AgbrjwkrxwBd",
        "colab": {
          "base_uri": "https://localhost:8080/"
        },
        "outputId": "d039a4e8-04ca-4a51-ffae-1bc5d5e10f78"
      },
      "execution_count": null,
      "outputs": [
        {
          "output_type": "stream",
          "name": "stdout",
          "text": [
            "Masukkan Bilangan: 0\n",
            "Nol\n"
          ]
        }
      ]
    },
    {
      "cell_type": "code",
      "source": [
        "# Menentukan Bilangan Ganjil atau Genap\n",
        "\n",
        "bilangan = int(input(\"Masukkan Bilangan: \"))\n",
        "if bilangan % 2 == 0:\n",
        "   print(\"{0} adalah bilangan genap\".format(bilangan))\n",
        "else:\n",
        "   print(\"{0} adalah bilangan ganjil\".format(bilangan))"
      ],
      "metadata": {
        "colab": {
          "base_uri": "https://localhost:8080/"
        },
        "id": "v1rMD5T03ifg",
        "outputId": "cb8ec05e-daf9-46a7-f336-3bfc1df3a335"
      },
      "execution_count": null,
      "outputs": [
        {
          "output_type": "stream",
          "name": "stdout",
          "text": [
            "Masukkan Bilangan: 60\n",
            "60 adalah bilangan genap\n"
          ]
        }
      ]
    },
    {
      "cell_type": "code",
      "source": [
        "# Menentukan Klasifikasi Usia\n",
        "\n",
        "Balita = (\"0 >= 5\")\n",
        "Anak_Anak = (\"6 >= 11\")\n",
        "Remaja = (\"12 >= 24\")\n",
        "Dewasa = (\"25 >= 50\")\n",
        "Lansia = (\"65\")\n",
        "\n",
        "usia = int(input(\"Masukkan Usia: \"))\n",
        "\n",
        "if 1 <= usia <= 5:\n",
        "   print(\"Anda Termasuk Balita\")\n",
        "elif 6 <= usia <=11:\n",
        "    print(\"Anda Termasuk Anak_Anak\")\n",
        "elif 12 <= usia <= 24:\n",
        "    print(\"Anda Termasuk Remaja\")\n",
        "elif 25 <= usia <= 50:\n",
        "    print(\"Anda Termasuk Dewasa\")\n",
        "else :\n",
        "    print(\"Anda Termasuk Lansia\")"
      ],
      "metadata": {
        "colab": {
          "base_uri": "https://localhost:8080/"
        },
        "id": "77E3r7_M3izO",
        "outputId": "9b648462-5397-49ca-f01a-76f4ec59f41d"
      },
      "execution_count": null,
      "outputs": [
        {
          "output_type": "stream",
          "name": "stdout",
          "text": [
            "Masukkan Usia: 70\n",
            "Anda Termasuk Lansia\n"
          ]
        }
      ]
    },
    {
      "cell_type": "code",
      "source": [
        "# Menentukan Nilai Ujian\n",
        "\n",
        "Grade_A= (\"90 >= 100\")\n",
        "Grade_B = (\"80 >= 89\")\n",
        "Grade_C = (\"70 >= 79\")\n",
        "Grade_D = (\"60 >= 69\")\n",
        "Grade_e = (\"<= 60\")\n",
        "\n",
        "nilai = int(input(\"Masukkan Nilai Anda: \"))\n",
        "\n",
        "if 90 <= nilai <= 100:\n",
        "   print(\"Nilai Anda Termasuk Grade A\")\n",
        "elif 80 <= nilai <= 89:\n",
        "    print(\"Nilai Anda Termasuk Grade B\")\n",
        "elif 80 <= nilai <= 79:\n",
        "    print(\"Nilai Anda Termasuk Grade C\")\n",
        "elif 60 <= nilai <= 69:\n",
        "    print(\"Nilai Anda Termasuk Grade_D\")\n",
        "else :\n",
        "    print(\"Nilai Anda Termasuk Grade E\")"
      ],
      "metadata": {
        "colab": {
          "base_uri": "https://localhost:8080/"
        },
        "id": "2UglOrT-8RhK",
        "outputId": "b2d0356b-b13c-4a82-cf8b-d55f601e871e"
      },
      "execution_count": null,
      "outputs": [
        {
          "output_type": "stream",
          "name": "stdout",
          "text": [
            "Masukkan Nilai Anda: 90\n",
            "Nilai Anda Termasuk Grade A\n"
          ]
        }
      ]
    },
    {
      "cell_type": "code",
      "source": [
        "# Menentukan Zodiak\n",
        "\n",
        "Aries = (\"21 Maret <= 19 April\")\n",
        "Taurus = (\"20 April <= 20 Mei\")\n",
        "Gemini = (\"21 Mei <= 20 Juni\")\n",
        "Cancer = (\"21 Juni <= 22 Juli\")\n",
        "Leo = (\"23 Juli <= 22 Agustus\")\n",
        "Virgo = (\"23 Agustus <= 22 September\")\n",
        "Libra = (\"23 September <= 22 Oktober\")\n",
        "Scorpio = (\"23 Oktober <= 21 November\")\n",
        "Sagitarius = (\"22 November <= 21 Desember\")\n",
        "Capricorn = (\"22 Desember <= 20 Januari\")\n",
        "Aquarius = (\"21 Januari <= 18 Februari\")\n",
        "Pisces = (\"19 Februari <= 20 Maret\")\n",
        "\n",
        "tanggal = int(input(\"Masukkan Tanggal Lahir Anda: \"))\n",
        "bulan = input(\"Masukkan Bulan Lahir Anda: \").lower()\n",
        "\n",
        "if (bulan == \"maret\" and tanggal >= 21) or (bulan == \"april\" and tanggal <= 19):\n",
        "    zodiak = \"Aries\"\n",
        "elif (bulan == \"april\" and tanggal >= 20) or (bulan == \"mei\" and tanggal <= 20):\n",
        "    zodiak = \"Taurus\"\n",
        "elif (bulan == \"mei\" and tanggal >= 21) or (bulan == \"juni\" and tanggal <= 20):\n",
        "    zodiak = \"Gemini\"\n",
        "elif (bulan == \"juni\" and tanggal >= 21) or (bulan == \"juli\" and tanggal <= 22):\n",
        "    zodiak = \"Cancer\"\n",
        "elif (bulan == \"juli\" and tanggal >= 23) or (bulan == \"agustus\" and tanggal <= 22):\n",
        "    zodiak = \"Leo\"\n",
        "elif (bulan == \"agustus\" and tanggal >= 23) or (bulan == \"september\" and tanggal <= 22):\n",
        "    zodiak = \"Virgo\"\n",
        "elif (bulan == \"september\" and tanggal >= 23) or (bulan == \"oktober\" and tanggal <= 22):\n",
        "    zodiak = \"Libra\"\n",
        "elif (bulan == \"oktober\" and tanggal >= 23) or (bulan == \"november\" and tanggal <= 21):\n",
        "    zodiak = \"Scorpio\"\n",
        "elif (bulan == \"november\" and tanggal >= 22) or (bulan == \"desember\" and tanggal <= 21):\n",
        "    zodiak = \"Sagitarius\"\n",
        "elif (bulan == \"desember\" and tanggal >= 22) or (bulan == \"januari\" and tanggal <= 19):\n",
        "    zodiak = \"Capricorn\"\n",
        "elif (bulan == \"januari\" and tanggal >= 20) or (bulan == \"februari\" and tanggal <= 18):\n",
        "    zodiak = \"Aquarius\"\n",
        "elif (bulan == \"februari\" and tanggal >= 19) or (bulan == \"maret\" and tanggal <= 20):\n",
        "    zodiak = \"Pisces\"\n",
        "else:\n",
        "    zodiak = \"Tanggal atau bulan tidak valid\"\n",
        "\n",
        "print(\"Zodiak Anda Adalah =\", zodiak)"
      ],
      "metadata": {
        "colab": {
          "base_uri": "https://localhost:8080/"
        },
        "id": "aAxxfK5Y_SiW",
        "outputId": "e6725ce9-59d4-46f5-ccb2-7ffe5094ee6f"
      },
      "execution_count": null,
      "outputs": [
        {
          "output_type": "stream",
          "name": "stdout",
          "text": [
            "Masukkan Tanggal Lahir Anda: 14\n",
            "Masukkan Bulan Lahir Anda: JANUARI\n",
            "Zodiak Anda Adalah = Capricorn\n"
          ]
        }
      ]
    }
  ]
}